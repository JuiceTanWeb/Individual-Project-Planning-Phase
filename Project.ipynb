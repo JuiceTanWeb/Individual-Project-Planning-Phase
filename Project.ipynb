{
 "cells": [
  {
   "cell_type": "markdown",
   "id": "306a1e97-6b5b-4edb-829c-ab09774ab359",
   "metadata": {},
   "source": [
    "# DSCI 100 Project"
   ]
  },
  {
   "cell_type": "markdown",
   "id": "bc95b5e8-9304-426b-9f75-7d05d31443c4",
   "metadata": {},
   "source": [
    "## 1. Description"
   ]
  },
  {
   "cell_type": "code",
   "execution_count": 5,
   "id": "d04b91d0-bd0f-4db6-9d7f-350edb4494bf",
   "metadata": {
    "scrolled": true
   },
   "outputs": [
    {
     "name": "stderr",
     "output_type": "stream",
     "text": [
      "── \u001b[1mAttaching core tidyverse packages\u001b[22m ──────────────────────── tidyverse 2.0.0 ──\n",
      "\u001b[32m✔\u001b[39m \u001b[34mdplyr    \u001b[39m 1.1.4     \u001b[32m✔\u001b[39m \u001b[34mreadr    \u001b[39m 2.1.5\n",
      "\u001b[32m✔\u001b[39m \u001b[34mforcats  \u001b[39m 1.0.0     \u001b[32m✔\u001b[39m \u001b[34mstringr  \u001b[39m 1.5.1\n",
      "\u001b[32m✔\u001b[39m \u001b[34mggplot2  \u001b[39m 3.5.1     \u001b[32m✔\u001b[39m \u001b[34mtibble   \u001b[39m 3.2.1\n",
      "\u001b[32m✔\u001b[39m \u001b[34mlubridate\u001b[39m 1.9.3     \u001b[32m✔\u001b[39m \u001b[34mtidyr    \u001b[39m 1.3.1\n",
      "\u001b[32m✔\u001b[39m \u001b[34mpurrr    \u001b[39m 1.0.2     \n",
      "── \u001b[1mConflicts\u001b[22m ────────────────────────────────────────── tidyverse_conflicts() ──\n",
      "\u001b[31m✖\u001b[39m \u001b[34mdplyr\u001b[39m::\u001b[32mfilter()\u001b[39m masks \u001b[34mstats\u001b[39m::filter()\n",
      "\u001b[31m✖\u001b[39m \u001b[34mdplyr\u001b[39m::\u001b[32mlag()\u001b[39m    masks \u001b[34mstats\u001b[39m::lag()\n",
      "\u001b[36mℹ\u001b[39m Use the conflicted package (\u001b[3m\u001b[34m<http://conflicted.r-lib.org/>\u001b[39m\u001b[23m) to force all conflicts to become errors\n"
     ]
    }
   ],
   "source": [
    "library(tidyverse)"
   ]
  },
  {
   "cell_type": "code",
   "execution_count": 6,
   "id": "210a3de6-2509-4e9c-8946-c46510b077ff",
   "metadata": {},
   "outputs": [
    {
     "name": "stderr",
     "output_type": "stream",
     "text": [
      "\u001b[1mRows: \u001b[22m\u001b[34m196\u001b[39m \u001b[1mColumns: \u001b[22m\u001b[34m7\u001b[39m\n",
      "\u001b[36m──\u001b[39m \u001b[1mColumn specification\u001b[22m \u001b[36m────────────────────────────────────────────────────────\u001b[39m\n",
      "\u001b[1mDelimiter:\u001b[22m \",\"\n",
      "\u001b[31mchr\u001b[39m (4): experience, hashedEmail, name, gender\n",
      "\u001b[32mdbl\u001b[39m (2): played_hours, Age\n",
      "\u001b[33mlgl\u001b[39m (1): subscribe\n",
      "\n",
      "\u001b[36mℹ\u001b[39m Use `spec()` to retrieve the full column specification for this data.\n",
      "\u001b[36mℹ\u001b[39m Specify the column types or set `show_col_types = FALSE` to quiet this message.\n",
      "\u001b[1mRows: \u001b[22m\u001b[34m1535\u001b[39m \u001b[1mColumns: \u001b[22m\u001b[34m5\u001b[39m\n",
      "\u001b[36m──\u001b[39m \u001b[1mColumn specification\u001b[22m \u001b[36m────────────────────────────────────────────────────────\u001b[39m\n",
      "\u001b[1mDelimiter:\u001b[22m \",\"\n",
      "\u001b[31mchr\u001b[39m (3): hashedEmail, start_time, end_time\n",
      "\u001b[32mdbl\u001b[39m (2): original_start_time, original_end_time\n",
      "\n",
      "\u001b[36mℹ\u001b[39m Use `spec()` to retrieve the full column specification for this data.\n",
      "\u001b[36mℹ\u001b[39m Specify the column types or set `show_col_types = FALSE` to quiet this message.\n"
     ]
    }
   ],
   "source": [
    "players <- read_csv(\"data/players.csv\")\n",
    "sessions <- read_csv(\"data/sessions.csv\")"
   ]
  },
  {
   "cell_type": "markdown",
   "id": "722bb3a9-8a4a-4c5d-83ed-68ae2210f417",
   "metadata": {},
   "source": [
    "The players and sessions data tables were collected from Frank Wood's research study. In this study, players play \"sessions\" of minecraft and their data is collected. "
   ]
  },
  {
   "cell_type": "code",
   "execution_count": 44,
   "id": "1b1b2f94-e435-46c3-aa62-58e1e91c1418",
   "metadata": {},
   "outputs": [
    {
     "name": "stdout",
     "output_type": "stream",
     "text": [
      "\u001b[90m# A tibble: 196 × 7\u001b[39m\n",
      "   experience subscribe hashedEmail              played_hours name  gender   Age\n",
      "   \u001b[3m\u001b[90m<chr>\u001b[39m\u001b[23m      \u001b[3m\u001b[90m<lgl>\u001b[39m\u001b[23m     \u001b[3m\u001b[90m<chr>\u001b[39m\u001b[23m                           \u001b[3m\u001b[90m<dbl>\u001b[39m\u001b[23m \u001b[3m\u001b[90m<chr>\u001b[39m\u001b[23m \u001b[3m\u001b[90m<chr>\u001b[39m\u001b[23m  \u001b[3m\u001b[90m<dbl>\u001b[39m\u001b[23m\n",
      "\u001b[90m 1\u001b[39m Pro        TRUE      f6daba428a5e19a3d475748…         30.3 Morg… Male       9\n",
      "\u001b[90m 2\u001b[39m Veteran    TRUE      f3c813577c458ba0dfef809…          3.8 Chri… Male      17\n",
      "\u001b[90m 3\u001b[39m Veteran    FALSE     b674dd7ee0d24096d1c0196…          0   Blake Male      17\n",
      "\u001b[90m 4\u001b[39m Amateur    TRUE      23fe711e0e3b77f1da7aa22…          0.7 Flora Female    21\n",
      "\u001b[90m 5\u001b[39m Regular    TRUE      7dc01f10bf20671ecfccdac…          0.1 Kylie Male      21\n",
      "\u001b[90m 6\u001b[39m Amateur    TRUE      f58aad5996a435f16b0284a…          0   Adri… Female    17\n",
      "\u001b[90m 7\u001b[39m Regular    TRUE      8e594b8953193b26f498db9…          0   Luna  Female    19\n",
      "\u001b[90m 8\u001b[39m Amateur    FALSE     1d2371d8a35c8831034b25b…          0   Emer… Male      21\n",
      "\u001b[90m 9\u001b[39m Amateur    TRUE      8b71f4d66a38389b7528bb3…          0.1 Nata… Male      17\n",
      "\u001b[90m10\u001b[39m Veteran    TRUE      bbe2d83de678f519c4b3daa…          0   Nyla  Female    22\n",
      "\u001b[90m# ℹ 186 more rows\u001b[39m\n",
      "\u001b[90m# A tibble: 1,535 × 5\u001b[39m\n",
      "   hashedEmail         start_time end_time original_start_time original_end_time\n",
      "   \u001b[3m\u001b[90m<chr>\u001b[39m\u001b[23m               \u001b[3m\u001b[90m<chr>\u001b[39m\u001b[23m      \u001b[3m\u001b[90m<chr>\u001b[39m\u001b[23m                  \u001b[3m\u001b[90m<dbl>\u001b[39m\u001b[23m             \u001b[3m\u001b[90m<dbl>\u001b[39m\u001b[23m\n",
      "\u001b[90m 1\u001b[39m bfce39c89d6549f2bb… 30/06/202… 30/06/2…       1\u001b[4m7\u001b[24m\u001b[4m1\u001b[24m\u001b[4m9\u001b[24m770\u001b[4m0\u001b[24m\u001b[4m0\u001b[24m\u001b[4m0\u001b[24m000     1\u001b[4m7\u001b[24m\u001b[4m1\u001b[24m\u001b[4m9\u001b[24m770\u001b[4m0\u001b[24m\u001b[4m0\u001b[24m\u001b[4m0\u001b[24m000\n",
      "\u001b[90m 2\u001b[39m 36d9cbb4c6bc0c1a69… 17/06/202… 17/06/2…       1\u001b[4m7\u001b[24m\u001b[4m1\u001b[24m\u001b[4m8\u001b[24m670\u001b[4m0\u001b[24m\u001b[4m0\u001b[24m\u001b[4m0\u001b[24m000     1\u001b[4m7\u001b[24m\u001b[4m1\u001b[24m\u001b[4m8\u001b[24m670\u001b[4m0\u001b[24m\u001b[4m0\u001b[24m\u001b[4m0\u001b[24m000\n",
      "\u001b[90m 3\u001b[39m f8f5477f5a2e53616a… 25/07/202… 25/07/2…       1\u001b[4m7\u001b[24m\u001b[4m2\u001b[24m\u001b[4m1\u001b[24m930\u001b[4m0\u001b[24m\u001b[4m0\u001b[24m\u001b[4m0\u001b[24m000     1\u001b[4m7\u001b[24m\u001b[4m2\u001b[24m\u001b[4m1\u001b[24m930\u001b[4m0\u001b[24m\u001b[4m0\u001b[24m\u001b[4m0\u001b[24m000\n",
      "\u001b[90m 4\u001b[39m bfce39c89d6549f2bb… 25/07/202… 25/07/2…       1\u001b[4m7\u001b[24m\u001b[4m2\u001b[24m\u001b[4m1\u001b[24m880\u001b[4m0\u001b[24m\u001b[4m0\u001b[24m\u001b[4m0\u001b[24m000     1\u001b[4m7\u001b[24m\u001b[4m2\u001b[24m\u001b[4m1\u001b[24m880\u001b[4m0\u001b[24m\u001b[4m0\u001b[24m\u001b[4m0\u001b[24m000\n",
      "\u001b[90m 5\u001b[39m 36d9cbb4c6bc0c1a69… 25/05/202… 25/05/2…       1\u001b[4m7\u001b[24m\u001b[4m1\u001b[24m\u001b[4m6\u001b[24m650\u001b[4m0\u001b[24m\u001b[4m0\u001b[24m\u001b[4m0\u001b[24m000     1\u001b[4m7\u001b[24m\u001b[4m1\u001b[24m\u001b[4m6\u001b[24m650\u001b[4m0\u001b[24m\u001b[4m0\u001b[24m\u001b[4m0\u001b[24m000\n",
      "\u001b[90m 6\u001b[39m bfce39c89d6549f2bb… 23/06/202… 23/06/2…       1\u001b[4m7\u001b[24m\u001b[4m1\u001b[24m\u001b[4m9\u001b[24m160\u001b[4m0\u001b[24m\u001b[4m0\u001b[24m\u001b[4m0\u001b[24m000     1\u001b[4m7\u001b[24m\u001b[4m1\u001b[24m\u001b[4m9\u001b[24m160\u001b[4m0\u001b[24m\u001b[4m0\u001b[24m\u001b[4m0\u001b[24m000\n",
      "\u001b[90m 7\u001b[39m fd6563a4e0f6f42735… 15/04/202… 15/04/2…       1\u001b[4m7\u001b[24m\u001b[4m1\u001b[24m\u001b[4m3\u001b[24m170\u001b[4m0\u001b[24m\u001b[4m0\u001b[24m\u001b[4m0\u001b[24m000     1\u001b[4m7\u001b[24m\u001b[4m1\u001b[24m\u001b[4m3\u001b[24m170\u001b[4m0\u001b[24m\u001b[4m0\u001b[24m\u001b[4m0\u001b[24m000\n",
      "\u001b[90m 8\u001b[39m ad6390295640af1ed0… 21/09/202… 21/09/2…       1\u001b[4m7\u001b[24m\u001b[4m2\u001b[24m\u001b[4m6\u001b[24m880\u001b[4m0\u001b[24m\u001b[4m0\u001b[24m\u001b[4m0\u001b[24m000     1\u001b[4m7\u001b[24m\u001b[4m2\u001b[24m\u001b[4m6\u001b[24m890\u001b[4m0\u001b[24m\u001b[4m0\u001b[24m\u001b[4m0\u001b[24m000\n",
      "\u001b[90m 9\u001b[39m 96e190b0bf3923cd8d… 21/06/202… 21/06/2…       1\u001b[4m7\u001b[24m\u001b[4m1\u001b[24m\u001b[4m8\u001b[24m940\u001b[4m0\u001b[24m\u001b[4m0\u001b[24m\u001b[4m0\u001b[24m000     1\u001b[4m7\u001b[24m\u001b[4m1\u001b[24m\u001b[4m8\u001b[24m940\u001b[4m0\u001b[24m\u001b[4m0\u001b[24m\u001b[4m0\u001b[24m000\n",
      "\u001b[90m10\u001b[39m 36d9cbb4c6bc0c1a69… 16/05/202… 16/05/2…       1\u001b[4m7\u001b[24m\u001b[4m1\u001b[24m\u001b[4m5\u001b[24m840\u001b[4m0\u001b[24m\u001b[4m0\u001b[24m\u001b[4m0\u001b[24m000     1\u001b[4m7\u001b[24m\u001b[4m1\u001b[24m\u001b[4m5\u001b[24m840\u001b[4m0\u001b[24m\u001b[4m0\u001b[24m\u001b[4m0\u001b[24m000\n",
      "\u001b[90m# ℹ 1,525 more rows\u001b[39m\n"
     ]
    }
   ],
   "source": [
    "print(n = 10, tibble(players))\n",
    "print(n = 10, tibble(sessions))"
   ]
  },
  {
   "cell_type": "markdown",
   "id": "bb83ab32-9f6a-49a6-8aae-04df89e582b1",
   "metadata": {},
   "source": [
    "There are 196 players and 1535 sessions in the dataset. The players table has 7 variables: experience, subscribe, hashedEmail, played_hours, name, gender and Age. The sessions table has 5 variables: hashedEmail, start_time, end_time, original_start_time, original_end_time. Experience, subscribe and gender are categorical variables while played_hours, Age, start_time, end_time original_start_time, original_end_time are quantitative variables. One issue I can see with this table is that the columns are not consistently named. To fix this, Age should be age, hashedEmail should be hashed_email."
   ]
  },
  {
   "cell_type": "markdown",
   "id": "9b8b30f0-9a3e-402e-828a-742f6bce89da",
   "metadata": {},
   "source": [
    "Summary Statistics"
   ]
  },
  {
   "cell_type": "code",
   "execution_count": 43,
   "id": "979c6dbf-d2c6-43b2-97be-f495460c8b62",
   "metadata": {},
   "outputs": [
    {
     "data": {
      "text/html": [
       "<table class=\"dataframe\">\n",
       "<caption>A tibble: 1 × 2</caption>\n",
       "<thead>\n",
       "\t<tr><th scope=col>played_hours</th><th scope=col>Age</th></tr>\n",
       "\t<tr><th scope=col>&lt;dbl&gt;</th><th scope=col>&lt;dbl&gt;</th></tr>\n",
       "</thead>\n",
       "<tbody>\n",
       "\t<tr><td>5.845918</td><td>20.52062</td></tr>\n",
       "</tbody>\n",
       "</table>\n"
      ],
      "text/latex": [
       "A tibble: 1 × 2\n",
       "\\begin{tabular}{ll}\n",
       " played\\_hours & Age\\\\\n",
       " <dbl> & <dbl>\\\\\n",
       "\\hline\n",
       "\t 5.845918 & 20.52062\\\\\n",
       "\\end{tabular}\n"
      ],
      "text/markdown": [
       "\n",
       "A tibble: 1 × 2\n",
       "\n",
       "| played_hours &lt;dbl&gt; | Age &lt;dbl&gt; |\n",
       "|---|---|\n",
       "| 5.845918 | 20.52062 |\n",
       "\n"
      ],
      "text/plain": [
       "  played_hours Age     \n",
       "1 5.845918     20.52062"
      ]
     },
     "metadata": {},
     "output_type": "display_data"
    },
    {
     "data": {
      "text/html": [
       "<table class=\"dataframe\">\n",
       "<caption>A tibble: 1 × 2</caption>\n",
       "<thead>\n",
       "\t<tr><th scope=col>played_hours</th><th scope=col>Age</th></tr>\n",
       "\t<tr><th scope=col>&lt;dbl&gt;</th><th scope=col>&lt;dbl&gt;</th></tr>\n",
       "</thead>\n",
       "<tbody>\n",
       "\t<tr><td>0.1</td><td>19</td></tr>\n",
       "</tbody>\n",
       "</table>\n"
      ],
      "text/latex": [
       "A tibble: 1 × 2\n",
       "\\begin{tabular}{ll}\n",
       " played\\_hours & Age\\\\\n",
       " <dbl> & <dbl>\\\\\n",
       "\\hline\n",
       "\t 0.1 & 19\\\\\n",
       "\\end{tabular}\n"
      ],
      "text/markdown": [
       "\n",
       "A tibble: 1 × 2\n",
       "\n",
       "| played_hours &lt;dbl&gt; | Age &lt;dbl&gt; |\n",
       "|---|---|\n",
       "| 0.1 | 19 |\n",
       "\n"
      ],
      "text/plain": [
       "  played_hours Age\n",
       "1 0.1          19 "
      ]
     },
     "metadata": {},
     "output_type": "display_data"
    },
    {
     "data": {
      "text/html": [
       "<table class=\"dataframe\">\n",
       "<caption>A tibble: 1 × 2</caption>\n",
       "<thead>\n",
       "\t<tr><th scope=col>played_hours</th><th scope=col>Age</th></tr>\n",
       "\t<tr><th scope=col>&lt;dbl&gt;</th><th scope=col>&lt;dbl&gt;</th></tr>\n",
       "</thead>\n",
       "<tbody>\n",
       "\t<tr><td>28.35734</td><td>6.174667</td></tr>\n",
       "</tbody>\n",
       "</table>\n"
      ],
      "text/latex": [
       "A tibble: 1 × 2\n",
       "\\begin{tabular}{ll}\n",
       " played\\_hours & Age\\\\\n",
       " <dbl> & <dbl>\\\\\n",
       "\\hline\n",
       "\t 28.35734 & 6.174667\\\\\n",
       "\\end{tabular}\n"
      ],
      "text/markdown": [
       "\n",
       "A tibble: 1 × 2\n",
       "\n",
       "| played_hours &lt;dbl&gt; | Age &lt;dbl&gt; |\n",
       "|---|---|\n",
       "| 28.35734 | 6.174667 |\n",
       "\n"
      ],
      "text/plain": [
       "  played_hours Age     \n",
       "1 28.35734     6.174667"
      ]
     },
     "metadata": {},
     "output_type": "display_data"
    },
    {
     "data": {
      "text/html": [
       "<table class=\"dataframe\">\n",
       "<caption>A tibble: 1 × 2</caption>\n",
       "<thead>\n",
       "\t<tr><th scope=col>played_hours</th><th scope=col>Age</th></tr>\n",
       "\t<tr><th scope=col>&lt;dbl&gt;</th><th scope=col>&lt;dbl&gt;</th></tr>\n",
       "</thead>\n",
       "<tbody>\n",
       "\t<tr><td>223.1</td><td>50</td></tr>\n",
       "</tbody>\n",
       "</table>\n"
      ],
      "text/latex": [
       "A tibble: 1 × 2\n",
       "\\begin{tabular}{ll}\n",
       " played\\_hours & Age\\\\\n",
       " <dbl> & <dbl>\\\\\n",
       "\\hline\n",
       "\t 223.1 & 50\\\\\n",
       "\\end{tabular}\n"
      ],
      "text/markdown": [
       "\n",
       "A tibble: 1 × 2\n",
       "\n",
       "| played_hours &lt;dbl&gt; | Age &lt;dbl&gt; |\n",
       "|---|---|\n",
       "| 223.1 | 50 |\n",
       "\n"
      ],
      "text/plain": [
       "  played_hours Age\n",
       "1 223.1        50 "
      ]
     },
     "metadata": {},
     "output_type": "display_data"
    },
    {
     "data": {
      "text/html": [
       "<table class=\"dataframe\">\n",
       "<caption>A tibble: 1 × 2</caption>\n",
       "<thead>\n",
       "\t<tr><th scope=col>played_hours</th><th scope=col>Age</th></tr>\n",
       "\t<tr><th scope=col>&lt;dbl&gt;</th><th scope=col>&lt;dbl&gt;</th></tr>\n",
       "</thead>\n",
       "<tbody>\n",
       "\t<tr><td>0</td><td>8</td></tr>\n",
       "</tbody>\n",
       "</table>\n"
      ],
      "text/latex": [
       "A tibble: 1 × 2\n",
       "\\begin{tabular}{ll}\n",
       " played\\_hours & Age\\\\\n",
       " <dbl> & <dbl>\\\\\n",
       "\\hline\n",
       "\t 0 & 8\\\\\n",
       "\\end{tabular}\n"
      ],
      "text/markdown": [
       "\n",
       "A tibble: 1 × 2\n",
       "\n",
       "| played_hours &lt;dbl&gt; | Age &lt;dbl&gt; |\n",
       "|---|---|\n",
       "| 0 | 8 |\n",
       "\n"
      ],
      "text/plain": [
       "  played_hours Age\n",
       "1 0            8  "
      ]
     },
     "metadata": {},
     "output_type": "display_data"
    }
   ],
   "source": [
    "players_quantitative <- select(players, played_hours, Age)\n",
    "map_df(players_quantitative, mean, na.rm = TRUE)\n",
    "map_df(players_quantitative, median, na.rm = TRUE)\n",
    "map_df(players_quantitative, sd, na.rm = TRUE)\n",
    "map_df(players_quantitative, max, na.rm = TRUE)\n",
    "map_df(players_quantitative, min, na.rm = TRUE)\n"
   ]
  },
  {
   "cell_type": "code",
   "execution_count": 40,
   "id": "38ca1a91-4627-4859-9aba-356afaf405d5",
   "metadata": {},
   "outputs": [
    {
     "data": {
      "text/html": [
       "<table class=\"dataframe\">\n",
       "<caption>A tibble: 7 × 2</caption>\n",
       "<thead>\n",
       "\t<tr><th scope=col>gender</th><th scope=col>n</th></tr>\n",
       "\t<tr><th scope=col>&lt;chr&gt;</th><th scope=col>&lt;int&gt;</th></tr>\n",
       "</thead>\n",
       "<tbody>\n",
       "\t<tr><td>Agender          </td><td>  2</td></tr>\n",
       "\t<tr><td>Female           </td><td> 37</td></tr>\n",
       "\t<tr><td>Male             </td><td>124</td></tr>\n",
       "\t<tr><td>Non-binary       </td><td> 15</td></tr>\n",
       "\t<tr><td>Other            </td><td>  1</td></tr>\n",
       "\t<tr><td>Prefer not to say</td><td> 11</td></tr>\n",
       "\t<tr><td>Two-Spirited     </td><td>  6</td></tr>\n",
       "</tbody>\n",
       "</table>\n"
      ],
      "text/latex": [
       "A tibble: 7 × 2\n",
       "\\begin{tabular}{ll}\n",
       " gender & n\\\\\n",
       " <chr> & <int>\\\\\n",
       "\\hline\n",
       "\t Agender           &   2\\\\\n",
       "\t Female            &  37\\\\\n",
       "\t Male              & 124\\\\\n",
       "\t Non-binary        &  15\\\\\n",
       "\t Other             &   1\\\\\n",
       "\t Prefer not to say &  11\\\\\n",
       "\t Two-Spirited      &   6\\\\\n",
       "\\end{tabular}\n"
      ],
      "text/markdown": [
       "\n",
       "A tibble: 7 × 2\n",
       "\n",
       "| gender &lt;chr&gt; | n &lt;int&gt; |\n",
       "|---|---|\n",
       "| Agender           |   2 |\n",
       "| Female            |  37 |\n",
       "| Male              | 124 |\n",
       "| Non-binary        |  15 |\n",
       "| Other             |   1 |\n",
       "| Prefer not to say |  11 |\n",
       "| Two-Spirited      |   6 |\n",
       "\n"
      ],
      "text/plain": [
       "  gender            n  \n",
       "1 Agender             2\n",
       "2 Female             37\n",
       "3 Male              124\n",
       "4 Non-binary         15\n",
       "5 Other               1\n",
       "6 Prefer not to say  11\n",
       "7 Two-Spirited        6"
      ]
     },
     "metadata": {},
     "output_type": "display_data"
    },
    {
     "data": {
      "text/html": [
       "<table class=\"dataframe\">\n",
       "<caption>A tibble: 2 × 2</caption>\n",
       "<thead>\n",
       "\t<tr><th scope=col>subscribe</th><th scope=col>n</th></tr>\n",
       "\t<tr><th scope=col>&lt;lgl&gt;</th><th scope=col>&lt;int&gt;</th></tr>\n",
       "</thead>\n",
       "<tbody>\n",
       "\t<tr><td>FALSE</td><td> 52</td></tr>\n",
       "\t<tr><td> TRUE</td><td>144</td></tr>\n",
       "</tbody>\n",
       "</table>\n"
      ],
      "text/latex": [
       "A tibble: 2 × 2\n",
       "\\begin{tabular}{ll}\n",
       " subscribe & n\\\\\n",
       " <lgl> & <int>\\\\\n",
       "\\hline\n",
       "\t FALSE &  52\\\\\n",
       "\t  TRUE & 144\\\\\n",
       "\\end{tabular}\n"
      ],
      "text/markdown": [
       "\n",
       "A tibble: 2 × 2\n",
       "\n",
       "| subscribe &lt;lgl&gt; | n &lt;int&gt; |\n",
       "|---|---|\n",
       "| FALSE |  52 |\n",
       "|  TRUE | 144 |\n",
       "\n"
      ],
      "text/plain": [
       "  subscribe n  \n",
       "1 FALSE      52\n",
       "2  TRUE     144"
      ]
     },
     "metadata": {},
     "output_type": "display_data"
    },
    {
     "data": {
      "text/html": [
       "<table class=\"dataframe\">\n",
       "<caption>A tibble: 5 × 2</caption>\n",
       "<thead>\n",
       "\t<tr><th scope=col>experience</th><th scope=col>n</th></tr>\n",
       "\t<tr><th scope=col>&lt;chr&gt;</th><th scope=col>&lt;int&gt;</th></tr>\n",
       "</thead>\n",
       "<tbody>\n",
       "\t<tr><td>Amateur </td><td>63</td></tr>\n",
       "\t<tr><td>Beginner</td><td>35</td></tr>\n",
       "\t<tr><td>Pro     </td><td>14</td></tr>\n",
       "\t<tr><td>Regular </td><td>36</td></tr>\n",
       "\t<tr><td>Veteran </td><td>48</td></tr>\n",
       "</tbody>\n",
       "</table>\n"
      ],
      "text/latex": [
       "A tibble: 5 × 2\n",
       "\\begin{tabular}{ll}\n",
       " experience & n\\\\\n",
       " <chr> & <int>\\\\\n",
       "\\hline\n",
       "\t Amateur  & 63\\\\\n",
       "\t Beginner & 35\\\\\n",
       "\t Pro      & 14\\\\\n",
       "\t Regular  & 36\\\\\n",
       "\t Veteran  & 48\\\\\n",
       "\\end{tabular}\n"
      ],
      "text/markdown": [
       "\n",
       "A tibble: 5 × 2\n",
       "\n",
       "| experience &lt;chr&gt; | n &lt;int&gt; |\n",
       "|---|---|\n",
       "| Amateur  | 63 |\n",
       "| Beginner | 35 |\n",
       "| Pro      | 14 |\n",
       "| Regular  | 36 |\n",
       "| Veteran  | 48 |\n",
       "\n"
      ],
      "text/plain": [
       "  experience n \n",
       "1 Amateur    63\n",
       "2 Beginner   35\n",
       "3 Pro        14\n",
       "4 Regular    36\n",
       "5 Veteran    48"
      ]
     },
     "metadata": {},
     "output_type": "display_data"
    }
   ],
   "source": [
    "library(dplyr)\n",
    "\n",
    "gender_counts <- players %>%\n",
    "  select(gender) %>%\n",
    "  count(gender)\n",
    "gender_counts\n",
    "subscribe_counts <- players %>%\n",
    "  select(subscribe) %>%\n",
    "  count(subscribe)\n",
    "subscribe_counts\n",
    "\n",
    "experience_counts <- players %>%\n",
    "  select(experience) %>%\n",
    "  count(experience)\n",
    "experience_counts"
   ]
  },
  {
   "cell_type": "markdown",
   "id": "f2800cf5-c025-4224-8006-7ea678f31733",
   "metadata": {},
   "source": [
    "73.5% players are subscribed. The mean number of played hours is 5.85 hours, the median is 0.1 hours, the maximum is 223 hours, the minimum is 0 hours, and the standard deviation is 28.35 hours. The mean age is 20.5 with a standard deviation of 6. The majority of players are male and expreience is mostly even with the exception of fewer pro players."
   ]
  },
  {
   "cell_type": "markdown",
   "id": "fc9d85f9-8d7b-4c22-943e-6a01a1a36839",
   "metadata": {},
   "source": [
    "## 2. Questions"
   ]
  },
  {
   "cell_type": "markdown",
   "id": "c8ea1c55-ec10-48f2-881b-166cb462184e",
   "metadata": {},
   "source": [
    "Can experience level predict subscription status?"
   ]
  },
  {
   "cell_type": "code",
   "execution_count": null,
   "id": "f26062e5-7c5d-4e53-9804-0689deab5f0d",
   "metadata": {},
   "outputs": [],
   "source": []
  },
  {
   "cell_type": "markdown",
   "id": "93f31449-f8fb-495e-a749-d04a1a06a75d",
   "metadata": {},
   "source": [
    "## 3. Visualizations/Analysis"
   ]
  },
  {
   "cell_type": "markdown",
   "id": "3aad1b0e-6443-40d6-9c12-8eb1d351fead",
   "metadata": {},
   "source": [
    "## 4. Methods/Plan"
   ]
  },
  {
   "cell_type": "code",
   "execution_count": null,
   "id": "e70622e7-af01-4e46-80d9-9404264209c1",
   "metadata": {},
   "outputs": [],
   "source": [
    "I will use KNN "
   ]
  }
 ],
 "metadata": {
  "kernelspec": {
   "display_name": "R",
   "language": "R",
   "name": "ir"
  },
  "language_info": {
   "codemirror_mode": "r",
   "file_extension": ".r",
   "mimetype": "text/x-r-source",
   "name": "R",
   "pygments_lexer": "r",
   "version": "4.3.3"
  }
 },
 "nbformat": 4,
 "nbformat_minor": 5
}
